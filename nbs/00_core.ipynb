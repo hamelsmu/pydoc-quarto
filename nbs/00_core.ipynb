{
 "cells": [
  {
   "cell_type": "markdown",
   "metadata": {},
   "source": [
    "# core\n",
    "\n",
    "> Generate Markdown Files From A Python Library"
   ]
  },
  {
   "cell_type": "code",
   "execution_count": null,
   "metadata": {},
   "outputs": [],
   "source": [
    "#| default_exp core"
   ]
  },
  {
   "cell_type": "code",
   "execution_count": null,
   "metadata": {},
   "outputs": [],
   "source": [
    "#|export\n",
    "import pkgutil, pydoc, re\n",
    "from importlib import import_module\n",
    "from types import ModuleType\n",
    "from pathlib import Path\n",
    "from fastcore.script import call_parse\n",
    "from fastcore.xtras import mk_write"
   ]
  },
  {
   "cell_type": "code",
   "execution_count": null,
   "metadata": {},
   "outputs": [],
   "source": [
    "#|export\n",
    "def get_modules(lib:ModuleType) -> list[str]:\n",
    "    \"get a list of modules from a python package\"\n",
    "    modules = []\n",
    "    for _, modname, _ in pkgutil.iter_modules(lib.__path__, lib.__name__ + '.'):\n",
    "        if not modname.split('.')[-1].startswith('_'): modules.append(modname)\n",
    "    return modules"
   ]
  },
  {
   "cell_type": "markdown",
   "metadata": {},
   "source": [
    "For example, we can list all the modules in the [requests](https://requests.readthedocs.io/en/latest/) library:"
   ]
  },
  {
   "cell_type": "code",
   "execution_count": null,
   "metadata": {},
   "outputs": [],
   "source": [
    "import requests"
   ]
  },
  {
   "cell_type": "code",
   "execution_count": null,
   "metadata": {},
   "outputs": [
    {
     "data": {
      "text/plain": [
       "['requests.adapters',\n",
       " 'requests.api',\n",
       " 'requests.auth',\n",
       " 'requests.certs',\n",
       " 'requests.compat',\n",
       " 'requests.cookies',\n",
       " 'requests.exceptions',\n",
       " 'requests.help',\n",
       " 'requests.hooks',\n",
       " 'requests.models',\n",
       " 'requests.packages',\n",
       " 'requests.sessions',\n",
       " 'requests.status_codes',\n",
       " 'requests.structures',\n",
       " 'requests.utils']"
      ]
     },
     "execution_count": null,
     "metadata": {},
     "output_type": "execute_result"
    }
   ],
   "source": [
    "mods = get_modules(requests)\n",
    "mods"
   ]
  },
  {
   "cell_type": "code",
   "execution_count": null,
   "metadata": {},
   "outputs": [],
   "source": [
    "#|hide\n",
    "assert mods == ['requests.adapters','requests.api', 'requests.auth', 'requests.certs', 'requests.compat', 'requests.cookies',\n",
    " 'requests.exceptions', 'requests.help', 'requests.hooks', 'requests.models', 'requests.packages', 'requests.sessions',\n",
    " 'requests.status_codes', 'requests.structures', 'requests.utils']"
   ]
  },
  {
   "cell_type": "code",
   "execution_count": null,
   "metadata": {},
   "outputs": [],
   "source": [
    "#|export\n",
    "def gethelp(modname:str)->str:\n",
    "    \"Get the help string for a module, when the module is a string.\"\n",
    "    sym = __import__(modname, fromlist=[''])\n",
    "    return pydoc.render_doc(sym, title='~~~~~~~~~~~~%s', renderer=pydoc.plaintext)"
   ]
  },
  {
   "cell_type": "code",
   "execution_count": null,
   "metadata": {},
   "outputs": [
    {
     "data": {
      "text/plain": [
       "'~~~~~~~~~~~~module requests.api in requests\\n\\nNAME\\n    requests.api\\n\\nDESCRIPTION\\n    requests.api\\n    ~~~~~~~~~~~~\\n    \\n    This module implements the Requests API.\\n    \\n    :copyright: (c) 2012 by Ken'"
      ]
     },
     "execution_count": null,
     "metadata": {},
     "output_type": "execute_result"
    }
   ],
   "source": [
    "txt = gethelp('requests.api')\n",
    "txt[:200]"
   ]
  },
  {
   "cell_type": "code",
   "execution_count": null,
   "metadata": {},
   "outputs": [],
   "source": [
    "#|export\n",
    "def help2md(helpstr):\n",
    "    \"Transform a help string for a module into Markdown.\"\n",
    "    md = []\n",
    "    section = None\n",
    "    class_prefix = re.compile('^     \\|  ')\n",
    "\n",
    "    for l in helpstr.splitlines():\n",
    "        if l.strip().startswith('~~~~~~~~~~~~'): continue\n",
    "\n",
    "        if l and re.search('^\\w', l): \n",
    "            section = l.strip().lower()\n",
    "            if section not in ['name', 'data', 'file', 'version']: md.append(f'## {l.title()}')\n",
    "            continue\n",
    "        \n",
    "        if section == 'description' and '[[quarto_pydoc:ignore]]' in l: return ''\n",
    "        if section in ['file', 'data', 'version']: continue\n",
    "\n",
    "        if l and re.search('^    \\w', l):\n",
    "            if section == 'name': md.append(f'# {l.strip()}')\n",
    "            if section == 'functions': md.extend(['', f\"### {l.split('(')[0].strip()}\", '', f'<strong>{l.strip()}</strong>'])\n",
    "            if section == 'classes': \n",
    "                if l.startswith('    class '): \n",
    "                    md.extend(['', f\"### {l.replace('    class ', '').split('(')[0].strip()}\", '', f'<strong>{l.strip()}</strong>', ''])\n",
    "                else: md.append(l)\n",
    "            continue\n",
    "\n",
    "        else: md.append(l)\n",
    "    return '\\n'.join(md)"
   ]
  },
  {
   "cell_type": "markdown",
   "metadata": {},
   "source": [
    "This does some minimal transformation on the text to create markdown headings:"
   ]
  },
  {
   "cell_type": "code",
   "execution_count": null,
   "metadata": {},
   "outputs": [
    {
     "name": "stdout",
     "output_type": "stream",
     "text": [
      "\n",
      "# requests.api\n",
      "\n",
      "## Description\n",
      "    \n",
      "    \n",
      "    :copyright: (c) 2012 by Kenneth Reitz.\n",
      "    :license: Apache2, see LICENSE for more details.\n",
      "\n",
      "## Functions\n",
      "\n",
      "### delete\n",
      "\n",
      "<strong>delete(url, **kwargs)</strong>\n",
      "        Sends a DELETE request.\n",
      "        \n",
      "        :param url: URL for the new :class:`Request` object.\n",
      "        :param \\*\\*kwargs: Optional arguments that ``request`` takes.\n",
      "        :return: :class:`Response <Response>` object\n",
      "        :rtype: requests.Response\n",
      "    \n",
      "\n",
      "### get\n",
      "\n",
      "<strong>get(url, params=None, **kwargs)</strong>\n",
      "        Sends a GET request.\n",
      "        \n",
      "        :param url: URL for the new :class:`Request` object.\n",
      "        :param params: (optional) Dictionary, list of tuples or bytes to send\n",
      "            in the query string for the :class:`Request`.\n",
      "        :param \\*\\*kwargs: Optional arguments that ``request`` takes.\n",
      "        :return: :class:`Response <Response>` object\n",
      "        :rtype: requests.Response\n",
      "    \n",
      "\n",
      "### head\n",
      "\n",
      "<strong>head(url, **kwargs)</strong>\n",
      "        Sends a HEAD request.\n",
      "        \n",
      "        :param url: URL for the new :class:`Request` object.\n",
      "        :param \\*\\*kwargs: Optional arguments that ``request`` takes. If\n",
      "            `allow_redirects` is not provided, it will be set to `False` (as\n",
      "            opposed to the default :meth:`request` behavior).\n",
      "        :return: :class:`Response <Response>` object\n",
      "        :rtype: requests.Response\n",
      "    \n",
      "\n",
      "### options\n",
      "\n",
      "<strong>options(url, **kwargs)</strong>\n",
      "        Sends an OPTIONS request.\n",
      "        \n",
      "        :param url: URL for the new :class:`Request` object.\n",
      "        :param \\*\\*kwargs: Optional arguments that ``request`` takes.\n",
      "        :return: :class:`Response <Response>` object\n",
      "        :rtype: requests.Response\n",
      "    \n",
      "\n",
      "### patch\n",
      "\n",
      "<strong>patch(url, data=None, **kwargs)</strong>\n",
      "        Sends a PATCH request.\n",
      "        \n",
      "        :param url: URL for the new :class:`Request` object.\n",
      "        :param data: (optional) Dictionary, list of tuples, bytes, or file-like\n",
      "            object to send in the body of the :class:`Request`.\n",
      "        :param json: (optional) A JSON serializable Python object to send in the body of the :class:`Request`.\n",
      "        :param \\*\\*kwargs: Optional arguments that ``request`` takes.\n",
      "        :return: :class:`Response <Response>` object\n",
      "        :rtype: requests.Response\n",
      "    \n",
      "\n",
      "### post\n",
      "\n",
      "<strong>post(url, data=None, json=None, **kwargs)</strong>\n",
      "        Sends a POST request.\n",
      "        \n",
      "        :param url: URL for the new :class:`Request` object.\n",
      "        :param data: (optional) Dictionary, list of tuples, bytes, or file-like\n",
      "            object to send in the body of the :class:`Request`.\n",
      "        :param json: (optional) A JSON serializable Python object to send in the body of the :class:`Request`.\n",
      "        :param \\*\\*kwargs: Optional arguments that ``request`` takes.\n",
      "        :return: :class:`Response <Response>` object\n",
      "        :rtype: requests.Response\n",
      "    \n",
      "\n",
      "### put\n",
      "\n",
      "<strong>put(url, data=None, **kwargs)</strong>\n",
      "        Sends a PUT request.\n",
      "        \n",
      "        :param url: URL for the new :class:`Request` object.\n",
      "        :param data: (optional) Dictionary, list of tuples, bytes, or file-like\n",
      "            object to send in the body of the :class:`Request`.\n",
      "        :param json: (optional) A JSON serializable Python object to send in the body of the :class:`Request`.\n",
      "        :param \\*\\*kwargs: Optional arguments that ``request`` takes.\n",
      "        :return: :class:`Response <Response>` object\n",
      "        :rtype: requests.Response\n",
      "    \n",
      "\n",
      "### request\n",
      "\n",
      "<strong>request(method, url, **kwargs)</strong>\n",
      "        Constructs and sends a :class:`Request <Request>`.\n",
      "        \n",
      "        :param method: method for the new :class:`Request` object: ``GET``, ``OPTIONS``, ``HEAD``, ``POST``, ``PUT``, ``PATCH``, or ``DELETE``.\n",
      "        :param url: URL for the new :class:`Request` object.\n",
      "        :param params: (optional) Dictionary, list of tuples or bytes to send\n",
      "            in the query string for the :class:`Request`.\n",
      "        :param data: (optional) Dictionary, list of tuples, bytes, or file-like\n",
      "            object to send in the body of the :class:`Request`.\n",
      "        :param json: (optional) A JSON serializable Python object to send in the body of the :class:`Request`.\n",
      "        :param headers: (optional) Dictionary of HTTP Headers to send with the :class:`Request`.\n",
      "        :param cookies: (optional) Dict or CookieJar object to send with the :class:`Request`.\n",
      "        :param files: (optional) Dictionary of ``'name': file-like-objects`` (or ``{'name': file-tuple}``) for multipart encoding upload.\n",
      "            ``file-tuple`` can be a 2-tuple ``('filename', fileobj)``, 3-tuple ``('filename', fileobj, 'content_type')``\n",
      "            or a 4-tuple ``('filename', fileobj, 'content_type', custom_headers)``, where ``'content-type'`` is a string\n",
      "            defining the content type of the given file and ``custom_headers`` a dict-like object containing additional headers\n",
      "            to add for the file.\n",
      "        :param auth: (optional) Auth tuple to enable Basic/Digest/Custom HTTP Auth.\n",
      "        :param timeout: (optional) How many seconds to wait for the server to send data\n",
      "            before giving up, as a float, or a :ref:`(connect timeout, read\n",
      "            timeout) <timeouts>` tuple.\n",
      "        :type timeout: float or tuple\n",
      "        :param allow_redirects: (optional) Boolean. Enable/disable GET/OPTIONS/POST/PUT/PATCH/DELETE/HEAD redirection. Defaults to ``True``.\n",
      "        :type allow_redirects: bool\n",
      "        :param proxies: (optional) Dictionary mapping protocol to the URL of the proxy.\n",
      "        :param verify: (optional) Either a boolean, in which case it controls whether we verify\n",
      "                the server's TLS certificate, or a string, in which case it must be a path\n",
      "                to a CA bundle to use. Defaults to ``True``.\n",
      "        :param stream: (optional) if ``False``, the response content will be immediately downloaded.\n",
      "        :param cert: (optional) if String, path to ssl client cert file (.pem). If Tuple, ('cert', 'key') pair.\n",
      "        :return: :class:`Response <Response>` object\n",
      "        :rtype: requests.Response\n",
      "        \n",
      "        Usage::\n",
      "        \n",
      "          >>> import requests\n",
      "          >>> req = requests.request('GET', 'https://httpbin.org/get')\n",
      "          >>> req\n",
      "          <Response [200]>\n",
      "\n"
     ]
    }
   ],
   "source": [
    "print(help2md(txt))"
   ]
  },
  {
   "cell_type": "code",
   "execution_count": null,
   "metadata": {},
   "outputs": [],
   "source": [
    "#|export\n",
    "@call_parse\n",
    "def gen_md(lib:str, # the name of the python library\n",
    "           dest_dir:str # the destination directory the markdown files will be rendered into\n",
    "          ) -> None:\n",
    "    \"Generate Markdown API docs\"\n",
    "    for modname in get_modules(import_module(lib)):  \n",
    "        helpstr = gethelp(modname)\n",
    "        md = help2md(helpstr)\n",
    "        if md == '': continue\n",
    "        submod = modname.split('.')[-1]\n",
    "        (Path(dest_dir)/f'{submod}.md').mk_write(md)"
   ]
  },
  {
   "cell_type": "markdown",
   "metadata": {},
   "source": [
    "You can generate your docs in the desired directory like so:"
   ]
  },
  {
   "cell_type": "code",
   "execution_count": null,
   "metadata": {},
   "outputs": [],
   "source": [
    "!rm -rf _test_dir/\n",
    "gen_md('requests', '_test_dir/')"
   ]
  },
  {
   "cell_type": "code",
   "execution_count": null,
   "metadata": {},
   "outputs": [
    {
     "name": "stdout",
     "output_type": "stream",
     "text": [
      "adapters.md     certs.md        exceptions.md   models.md       status_codes.md\n",
      "api.md          compat.md       help.md         packages.md     structures.md\n",
      "auth.md         cookies.md      hooks.md        sessions.md     utils.md\n"
     ]
    }
   ],
   "source": [
    "!ls _test_dir"
   ]
  },
  {
   "cell_type": "code",
   "execution_count": null,
   "metadata": {},
   "outputs": [],
   "source": [
    "#|hide\n",
    "assert len(mods) == len(Path('_test_dir/').ls())"
   ]
  }
 ],
 "metadata": {
  "kernelspec": {
   "display_name": "python3",
   "language": "python",
   "name": "python3"
  }
 },
 "nbformat": 4,
 "nbformat_minor": 4
}
