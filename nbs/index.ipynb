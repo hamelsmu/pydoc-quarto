{
 "cells": [
  {
   "cell_type": "markdown",
   "metadata": {},
   "source": [
    "# pydoc-quarto\n",
    "\n",
    "> Generate minimal reference API docs from a python library in the form of markdown files that can be rendered in Quarto."
   ]
  },
  {
   "cell_type": "markdown",
   "metadata": {},
   "source": [
    "## Install"
   ]
  },
  {
   "cell_type": "markdown",
   "metadata": {},
   "source": [
    "```sh\n",
    "pip install pydoc_quarto\n",
    "```"
   ]
  },
  {
   "cell_type": "markdown",
   "metadata": {},
   "source": [
    "## Usage"
   ]
  },
  {
   "cell_type": "code",
   "execution_count": null,
   "metadata": {},
   "outputs": [
    {
     "name": "stdout",
     "output_type": "stream",
     "text": [
      "usage: pydoc_quarto [-h] lib dest_dir\n",
      "\n",
      "Generate Markdown API docs\n",
      "\n",
      "positional arguments:\n",
      "  lib         the name of the python library\n",
      "  dest_dir    the destination directory the markdown files will be rendered into\n",
      "\n",
      "options:\n",
      "  -h, --help  show this help message and exit\n"
     ]
    }
   ],
   "source": [
    "!pydoc_quarto -h"
   ]
  },
  {
   "cell_type": "markdown",
   "metadata": {},
   "source": [
    "## Example\n",
    "\n",
    "This will generate markdown files for the `requests` library:"
   ]
  },
  {
   "cell_type": "code",
   "execution_count": null,
   "metadata": {},
   "outputs": [
    {
     "name": "stdout",
     "output_type": "stream",
     "text": [
      "adapters.md     certs.md        exceptions.md   models.md       status_codes.md\n",
      "api.md          compat.md       help.md         packages.md     structures.md\n",
      "auth.md         cookies.md      hooks.md        sessions.md     utils.md\n"
     ]
    }
   ],
   "source": [
    "!pydoc_quarto requests _test_dir/\n",
    "!ls _test_dir/"
   ]
  },
  {
   "cell_type": "code",
   "execution_count": null,
   "metadata": {},
   "outputs": [],
   "source": [
    "#|hide\n",
    "!rm -rf _test_dir/"
   ]
  },
  {
   "cell_type": "code",
   "execution_count": null,
   "metadata": {},
   "outputs": [],
   "source": []
  }
 ],
 "metadata": {
  "kernelspec": {
   "display_name": "python3",
   "language": "python",
   "name": "python3"
  }
 },
 "nbformat": 4,
 "nbformat_minor": 4
}
