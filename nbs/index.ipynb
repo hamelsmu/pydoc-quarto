{
 "cells": [
  {
   "cell_type": "markdown",
   "metadata": {},
   "source": [
    "# pydoc-quarto\n",
    "\n",
    "> Generate minimal reference API docs from a python library in the form of markdown files that can be rendered in Quarto."
   ]
  },
  {
   "cell_type": "markdown",
   "metadata": {},
   "source": [
    "## Install"
   ]
  },
  {
   "cell_type": "markdown",
   "metadata": {},
   "source": [
    "```sh\n",
    "pip install pydoc_quarto\n",
    "```"
   ]
  },
  {
   "cell_type": "markdown",
   "metadata": {},
   "source": [
    "## Usage"
   ]
  },
  {
   "cell_type": "code",
   "execution_count": 1,
   "metadata": {},
   "outputs": [
    {
     "name": "stdout",
     "output_type": "stream",
     "text": [
      "usage: pydoc_quarto [-h] lib dest_dir\n",
      "\n",
      "Generate Quarto Markdown API docs\n",
      "\n",
      "positional arguments:\n",
      "  lib         the name of the python library\n",
      "  dest_dir    the destination directory the markdown files will be rendered into\n",
      "\n",
      "options:\n",
      "  -h, --help  show this help message and exit\n"
     ]
    }
   ],
   "source": [
    "!pydoc_quarto -h"
   ]
  },
  {
   "cell_type": "markdown",
   "metadata": {},
   "source": [
    "## Example\n",
    "\n",
    "This will generate markdown files for the `requests` library:"
   ]
  },
  {
   "cell_type": "code",
   "execution_count": 2,
   "metadata": {},
   "outputs": [
    {
     "name": "stdout",
     "output_type": "stream",
     "text": [
      "adapters.qmd     compat.qmd       hooks.qmd        status_codes.qmd\n",
      "api.qmd          cookies.qmd      models.qmd       structures.qmd\n",
      "auth.qmd         exceptions.qmd   packages.qmd     utils.qmd\n",
      "certs.qmd        help.qmd         sessions.qmd\n"
     ]
    }
   ],
   "source": [
    "!pydoc_quarto requests _test_dir/\n",
    "!ls _test_dir/"
   ]
  },
  {
   "cell_type": "code",
   "execution_count": 3,
   "metadata": {},
   "outputs": [],
   "source": [
    "#|hide\n",
    "!rm -rf _test_dir/"
   ]
  },
  {
   "cell_type": "code",
   "execution_count": null,
   "metadata": {},
   "outputs": [],
   "source": []
  }
 ],
 "metadata": {
  "kernelspec": {
   "display_name": "Python 3 (ipykernel)",
   "language": "python",
   "name": "python3"
  },
  "language_info": {
   "codemirror_mode": {
    "name": "ipython",
    "version": 3
   },
   "file_extension": ".py",
   "mimetype": "text/x-python",
   "name": "python",
   "nbconvert_exporter": "python",
   "pygments_lexer": "ipython3",
   "version": "3.10.9"
  }
 },
 "nbformat": 4,
 "nbformat_minor": 4
}
